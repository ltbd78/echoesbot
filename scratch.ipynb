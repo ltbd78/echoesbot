{
 "cells": [
  {
   "cell_type": "code",
   "execution_count": 1,
   "metadata": {},
   "outputs": [],
   "source": [
    "from bot import *"
   ]
  },
  {
   "cell_type": "code",
   "execution_count": 2,
   "metadata": {},
   "outputs": [],
   "source": [
    "# bar_top = 50\n",
    "# bar_bottom = 10\n",
    "# size = (960, 540 + bar_top + bar_bottom)\n",
    "# locs = [(0, 0), (0, size[1])]\n",
    "# mb = MultiBox(size, locs)\n",
    "\n",
    "# coords = mb.locate(0, './PNG/Ores/scordite.PNG', .78)\n",
    "# coords"
   ]
  },
  {
   "cell_type": "code",
   "execution_count": 3,
   "metadata": {},
   "outputs": [
    {
     "data": {
      "text/plain": [
       "False"
      ]
     },
     "execution_count": 3,
     "metadata": {},
     "output_type": "execute_result"
    }
   ],
   "source": [
    "not True"
   ]
  },
  {
   "cell_type": "markdown",
   "metadata": {},
   "source": [
    "# Setup\n",
    "\n",
    "- Signal Filter: asteroid signals\n"
   ]
  },
  {
   "cell_type": "markdown",
   "metadata": {},
   "source": [
    "# TODO\n",
    "### High\n",
    "- BUG: sometimes can't distinguish between Lock and Unlock\n",
    "- BUG: 'min_ores_locked': 1, # keep at 1 or bot may deactivate miner when Locked_Ores_Less_Than is true and Ores_Less_Than is False\n",
    "\n",
    "- logging + prettify prints / output\n",
    "- track enemy\n",
    "- threading\n",
    "- ability to detect 'inactive_miner'.PNGs\n",
    "\n",
    "### Medium\n",
    "- unlock (drag) option\n",
    "- general check function in `actions.py` (`PNG_Less_Than`)\n",
    "- locate miner location when click\n",
    "- click delay between boxes (.5s - human reaction rate) (mouse queue) (hypothesis: banned for input broadcasting)\n",
    "- flexible initialization (Can start from a base)\n",
    "\n",
    "### Low\n",
    "- Update better quality inactive_miner.PNG (Near 0% progress, hard to detect)\n",
    "- random drags\n",
    "- gui\n",
    "- notification i.e. make sound if miner not active"
   ]
  },
  {
   "cell_type": "markdown",
   "metadata": {},
   "source": [
    "# Doctrines\n",
    "- Click randomization\n",
    "- Time randomization\n",
    "- Human breaks\n",
    "- Human sleep\n",
    "- Action Time Sequence Variance"
   ]
  }
 ],
 "metadata": {
  "kernelspec": {
   "display_name": "Python 3",
   "language": "python",
   "name": "python3"
  },
  "language_info": {
   "codemirror_mode": {
    "name": "ipython",
    "version": 3
   },
   "file_extension": ".py",
   "mimetype": "text/x-python",
   "name": "python",
   "nbconvert_exporter": "python",
   "pygments_lexer": "ipython3",
   "version": "3.8.5"
  }
 },
 "nbformat": 4,
 "nbformat_minor": 4
}
